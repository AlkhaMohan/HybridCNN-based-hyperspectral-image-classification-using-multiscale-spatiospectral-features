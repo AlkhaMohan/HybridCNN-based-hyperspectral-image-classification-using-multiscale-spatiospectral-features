{
 "cells": [
  {
   "cell_type": "code",
   "execution_count": 96,
   "metadata": {},
   "outputs": [
    {
     "data": {
      "text/html": [
       "        <script type=\"text/javascript\">\n",
       "        window.PlotlyConfig = {MathJaxConfig: 'local'};\n",
       "        if (window.MathJax) {MathJax.Hub.Config({SVG: {font: \"STIX-Web\"}});}\n",
       "        if (typeof require !== 'undefined') {\n",
       "        require.undef(\"plotly\");\n",
       "        requirejs.config({\n",
       "            paths: {\n",
       "                'plotly': ['https://cdn.plot.ly/plotly-latest.min']\n",
       "            }\n",
       "        });\n",
       "        require(['plotly'], function(Plotly) {\n",
       "            window._Plotly = Plotly;\n",
       "        });\n",
       "        }\n",
       "        </script>\n",
       "        "
      ]
     },
     "metadata": {},
     "output_type": "display_data"
    }
   ],
   "source": [
    "import keras\n",
    "from keras.layers import Conv2D, Conv3D, Flatten, Dense, Reshape, BatchNormalization\n",
    "from keras.layers import Dropout, Input,concatenate\n",
    "from keras.models import Model\n",
    "from keras.optimizers import Adam,SGD\n",
    "from keras.callbacks import ModelCheckpoint\n",
    "from keras.callbacks import EarlyStopping\n",
    "from keras.utils import np_utils\n",
    "from keras.callbacks import EarlyStopping\n",
    "from sklearn.decomposition import PCA\n",
    "from sklearn.model_selection import train_test_split\n",
    "from sklearn.metrics import confusion_matrix, accuracy_score, classification_report, cohen_kappa_score\n",
    "\n",
    "from operator import truediv\n",
    "\n",
    "from plotly.offline import init_notebook_mode\n",
    "from sklearn import random_projection\n",
    "from sklearn.decomposition import KernelPCA\n",
    "from sklearn.preprocessing import StandardScaler\n",
    "from sklearn.preprocessing import MinMaxScaler\n",
    "import numpy as np\n",
    "import matplotlib.pyplot as plt\n",
    "import scipy.io as sio\n",
    "import os\n",
    "import spectral\n",
    "\n",
    "init_notebook_mode(connected=True)\n",
    "%matplotlib inline"
   ]
  },
  {
   "cell_type": "code",
   "execution_count": 97,
   "metadata": {},
   "outputs": [],
   "source": [
    "## GLOBAL VARIABLES\n",
    "test_ratio = 0.6"
   ]
  },
  {
   "cell_type": "code",
   "execution_count": 98,
   "metadata": {},
   "outputs": [],
   "source": [
    "def loadData():\n",
    "    data = np.load(\"Indianpine_GRPKPCA.npy\") \n",
    "    labels = np.load(\"Indianpines_gt.npy\")\n",
    "    return data, labels"
   ]
  },
  {
   "cell_type": "code",
   "execution_count": 99,
   "metadata": {},
   "outputs": [],
   "source": [
    "def splitTrainTestSet(X, y, testRatio, randomState=345):\n",
    "    X_train, X_test, y_train, y_test = train_test_split(X, y, test_size=testRatio, random_state=randomState,\n",
    "                                                        stratify=y)\n",
    "    return X_train, X_test, y_train, y_test"
   ]
  },
  {
   "cell_type": "code",
   "execution_count": 100,
   "metadata": {},
   "outputs": [],
   "source": [
    "def padWithZeros(X, margin=2):\n",
    "    newX = np.zeros((X.shape[0] + 2 * margin, X.shape[1] + 2* margin, X.shape[2]))\n",
    "    x_offset = margin\n",
    "    y_offset = margin\n",
    "    newX[x_offset:X.shape[0] + x_offset, y_offset:X.shape[1] + y_offset, :] = X\n",
    "    return newX"
   ]
  },
  {
   "cell_type": "code",
   "execution_count": 101,
   "metadata": {},
   "outputs": [],
   "source": [
    "def createImageCubes(X, y, windowSize=5, removeZeroLabels = True):\n",
    "    margin = int((windowSize - 1) / 2)\n",
    "    zeroPaddedX = padWithZeros(X, margin=margin)\n",
    "    # split patches\n",
    "    patchesData = np.zeros((X.shape[0] * X.shape[1], windowSize, windowSize, X.shape[2]))\n",
    "    patchesLabels = np.zeros((X.shape[0] * X.shape[1]))\n",
    "    patchIndex = 0\n",
    "    for r in range(margin, zeroPaddedX.shape[0] - margin):\n",
    "        for c in range(margin, zeroPaddedX.shape[1] - margin):\n",
    "            patch = zeroPaddedX[r - margin:r + margin + 1, c - margin:c + margin + 1]   \n",
    "            patchesData[patchIndex, :, :, :] = patch\n",
    "            patchesLabels[patchIndex] = y[r-margin, c-margin]\n",
    "            patchIndex = patchIndex + 1\n",
    "    if removeZeroLabels:\n",
    "        patchesData = patchesData[patchesLabels>0,:,:,:]\n",
    "        patchesLabels = patchesLabels[patchesLabels>0]\n",
    "        patchesLabels -= 1\n",
    "    return patchesData, patchesLabels"
   ]
  },
  {
   "cell_type": "code",
   "execution_count": 102,
   "metadata": {},
   "outputs": [
    {
     "data": {
      "text/plain": [
       "((145, 145, 15), (145, 145))"
      ]
     },
     "execution_count": 102,
     "metadata": {},
     "output_type": "execute_result"
    }
   ],
   "source": [
    "X, y = loadData()\n",
    "X.shape, y.shape"
   ]
  },
  {
   "cell_type": "code",
   "execution_count": 103,
   "metadata": {},
   "outputs": [
    {
     "data": {
      "text/plain": [
       "(145, 145, 15)"
      ]
     },
     "execution_count": 103,
     "metadata": {},
     "output_type": "execute_result"
    }
   ],
   "source": [
    "K = X.shape[2]\n",
    "K = 15\n",
    "X.shape"
   ]
  },
  {
   "cell_type": "code",
   "execution_count": 104,
   "metadata": {},
   "outputs": [
    {
     "name": "stdout",
     "output_type": "stream",
     "text": [
      "((10249, 15, 15, 15), (10249,))\n",
      "((4099, 15, 15, 15), (6150, 15, 15, 15), (4099,), (6150,))\n",
      "((3279, 15, 15, 15), (820, 15, 15, 15), (3279,), (820,))\n",
      "(3279, 15, 15, 15, 1)\n",
      "(820, 15, 15, 15, 1)\n"
     ]
    }
   ],
   "source": [
    "X1, y1 = createImageCubes(X, y, windowSize=15)\n",
    "print(X1.shape, y1.shape)\n",
    "Xtrain1, Xtest1, ytrain1, ytest1 = splitTrainTestSet(X1, y1, test_ratio)\n",
    "print(Xtrain1.shape, Xtest1.shape, ytrain1.shape, ytest1.shape)\n",
    "Xtrain1, Xvalid1, ytrain1, yvalid1 = splitTrainTestSet(Xtrain1, ytrain1, 0.2)\n",
    "print(Xtrain1.shape, Xvalid1.shape, ytrain1.shape, yvalid1.shape)\n",
    "Xtrain1 = Xtrain1.reshape(-1,15,15, K,1)\n",
    "print(Xtrain1.shape)\n",
    "Xvalid1 = Xvalid1.reshape(-1,15,15, K,1)\n",
    "print(Xvalid1.shape)"
   ]
  },
  {
   "cell_type": "code",
   "execution_count": 105,
   "metadata": {},
   "outputs": [
    {
     "name": "stdout",
     "output_type": "stream",
     "text": [
      "((10249, 13, 13, 15), (10249,))\n",
      "((4099, 13, 13, 15), (6150, 13, 13, 15), (4099,), (6150,))\n",
      "((3279, 13, 13, 15), (820, 13, 13, 15), (3279,), (820,))\n",
      "(3279, 13, 13, 15, 1)\n",
      "(820, 13, 13, 15, 1)\n"
     ]
    }
   ],
   "source": [
    "X2, y2 = createImageCubes(X, y, windowSize=13)\n",
    "print(X2.shape, y2.shape)\n",
    "Xtrain2, Xtest2, ytrain2, ytest2 = splitTrainTestSet(X2, y2, test_ratio)\n",
    "print(Xtrain2.shape, Xtest2.shape, ytrain2.shape, ytest2.shape)\n",
    "Xtrain2, Xvalid2, ytrain2, yvalid2 = splitTrainTestSet(Xtrain2, ytrain2, 0.2)\n",
    "print(Xtrain2.shape, Xvalid2.shape, ytrain2.shape, yvalid2.shape)\n",
    "Xtrain2 = Xtrain2.reshape(-1,13,13, K,1)\n",
    "print(Xtrain2.shape)\n",
    "Xvalid2 = Xvalid2.reshape(-1,13,13, K,1)\n",
    "print(Xvalid2.shape)"
   ]
  },
  {
   "cell_type": "code",
   "execution_count": 106,
   "metadata": {},
   "outputs": [
    {
     "name": "stdout",
     "output_type": "stream",
     "text": [
      "((10249, 11, 11, 15), (10249,))\n",
      "((4099, 11, 11, 15), (6150, 11, 11, 15), (4099,), (6150,))\n",
      "((3279, 11, 11, 15), (820, 11, 11, 15), (3279,), (820,))\n",
      "(3279, 11, 11, 15, 1)\n",
      "(820, 11, 11, 15, 1)\n"
     ]
    }
   ],
   "source": [
    "X3, y3 = createImageCubes(X, y, windowSize=11)\n",
    "print(X3.shape, y3.shape)\n",
    "Xtrain3, Xtest3, ytrain3, ytest3 = splitTrainTestSet(X3, y3, test_ratio)\n",
    "print(Xtrain3.shape, Xtest3.shape, ytrain3.shape, ytest3.shape)\n",
    "Xtrain3, Xvalid3, ytrain3, yvalid3 = splitTrainTestSet(Xtrain3, ytrain3, 0.2)\n",
    "print(Xtrain3.shape, Xvalid3.shape, ytrain3.shape, yvalid3.shape)\n",
    "Xtrain3 = Xtrain3.reshape(-1,11,11, K,1)\n",
    "print(Xtrain3.shape)\n",
    "Xvalid3 = Xvalid3.reshape(-1,11,11, K,1)\n",
    "print(Xvalid3.shape)"
   ]
  },
  {
   "cell_type": "code",
   "execution_count": 107,
   "metadata": {},
   "outputs": [
    {
     "name": "stdout",
     "output_type": "stream",
     "text": [
      "((10249, 9, 9, 15), (10249,))\n",
      "((4099, 9, 9, 15), (6150, 9, 9, 15), (4099,), (6150,))\n",
      "((3279, 9, 9, 15), (820, 9, 9, 15), (3279,), (820,))\n",
      "(3279, 9, 9, 15)\n",
      "(820, 9, 9, 15)\n"
     ]
    }
   ],
   "source": [
    "X4, y4 = createImageCubes(X, y, windowSize=9)\n",
    "print(X4.shape, y4.shape)\n",
    "Xtrain4, Xtest4, ytrain4, ytest4 = splitTrainTestSet(X4, y4, test_ratio)\n",
    "print(Xtrain4.shape, Xtest4.shape, ytrain4.shape, ytest4.shape)\n",
    "Xtrain4, Xvalid4, ytrain4, yvalid4 = splitTrainTestSet(Xtrain4, ytrain4, 0.2)\n",
    "print(Xtrain4.shape, Xvalid4.shape, ytrain4.shape, yvalid4.shape)\n",
    "Xtrain4 = Xtrain4.reshape(-1,9,9, K)\n",
    "print(Xtrain4.shape)\n",
    "Xvalid4 = Xvalid4.reshape(-1,9,9, K)\n",
    "print(Xvalid4.shape)"
   ]
  },
  {
   "cell_type": "markdown",
   "metadata": {},
   "source": [
    "X5, y5 = createImageCubes(X, y, windowSize=13)\n",
    "print(X5.shape, y5.shape)\n",
    "Xtrain5, Xtest5, ytrain5, ytest5 = splitTrainTestSet(X5, y5, test_ratio)\n",
    "print(Xtrain5.shape, Xtest5.shape, ytrain5.shape, ytest5.shape)\n",
    "Xtrain5, Xvalid5, ytrain5, yvalid5 = splitTrainTestSet(Xtrain5, ytrain5, 0.4)\n",
    "print(Xtrain5.shape, Xvalid5.shape, ytrain5.shape, yvalid5.shape)\n",
    "Xtrain5 = Xtrain5.reshape(-1,13,13,K)\n",
    "print(Xtrain5.shape)\n",
    "Xvalid5 = Xvalid5.reshape(-1,13,13,K)\n",
    "print(Xvalid5.shape)\n",
    "ytrain5 = np_utils.to_categorical(ytrain5,num_classes=16)\n",
    "print(ytrain5.shape)\n",
    "yvalid5 = np_utils.to_categorical(yvalid5)\n",
    "print(yvalid5.shape)"
   ]
  },
  {
   "cell_type": "code",
   "execution_count": 108,
   "metadata": {},
   "outputs": [
    {
     "name": "stdout",
     "output_type": "stream",
     "text": [
      "_________________________________________________________________\n",
      "Layer (type)                 Output Shape              Param #   \n",
      "=================================================================\n",
      "input_17 (InputLayer)        (None, 15, 15, 15, 1)     0         \n",
      "_________________________________________________________________\n",
      "conv3d_37 (Conv3D)           (None, 13, 13, 9, 32)     2048      \n",
      "_________________________________________________________________\n",
      "conv3d_38 (Conv3D)           (None, 11, 11, 5, 64)     92224     \n",
      "_________________________________________________________________\n",
      "conv3d_39 (Conv3D)           (None, 9, 9, 3, 128)      221312    \n",
      "_________________________________________________________________\n",
      "op1 (Reshape)                (None, 9, 9, 384)         0         \n",
      "=================================================================\n",
      "Total params: 315,584\n",
      "Trainable params: 315,584\n",
      "Non-trainable params: 0\n",
      "_________________________________________________________________\n"
     ]
    }
   ],
   "source": [
    "inputA=Input((15,15,15,1))\n",
    "c11=Conv3D(filters=32, kernel_size=(3,3,7), activation='relu')(inputA)\n",
    "#c11=BatchNormalization()(c11)\n",
    "c12=Conv3D(filters=64, kernel_size=(3,3,5), activation='relu')(c11)\n",
    "#c12=BatchNormalization()(c12)\n",
    "c13=Conv3D(filters=128, kernel_size=(3,3,3), activation='relu')(c12)\n",
    "c13_shape = c13._keras_shape\n",
    "f1=Reshape((c13_shape [1], c13_shape [2], c13_shape [3]*c13_shape[4]),name='op1')(c13)\n",
    "model_a = Model(inputs=inputA, outputs=f1)  \n",
    "model_a.summary()"
   ]
  },
  {
   "cell_type": "code",
   "execution_count": 109,
   "metadata": {},
   "outputs": [
    {
     "name": "stdout",
     "output_type": "stream",
     "text": [
      "_________________________________________________________________\n",
      "Layer (type)                 Output Shape              Param #   \n",
      "=================================================================\n",
      "input_18 (InputLayer)        (None, 13, 13, 15, 1)     0         \n",
      "_________________________________________________________________\n",
      "conv3d_40 (Conv3D)           (None, 11, 11, 9, 32)     2048      \n",
      "_________________________________________________________________\n",
      "conv3d_41 (Conv3D)           (None, 9, 9, 5, 64)       92224     \n",
      "_________________________________________________________________\n",
      "conv3d_42 (Conv3D)           (None, 9, 9, 3, 128)      24704     \n",
      "_________________________________________________________________\n",
      "op2 (Reshape)                (None, 9, 9, 384)         0         \n",
      "=================================================================\n",
      "Total params: 118,976\n",
      "Trainable params: 118,976\n",
      "Non-trainable params: 0\n",
      "_________________________________________________________________\n"
     ]
    }
   ],
   "source": [
    "inputB=Input((13,13,15,1))\n",
    "c21=Conv3D(filters=32, kernel_size=(3,3,7), activation='relu')(inputB)\n",
    "#c21=BatchNormalization()(c21)\n",
    "c22=Conv3D(filters=64, kernel_size=(3,3,5), activation='relu')(c21)\n",
    "#c22=BatchNormalization()(c22)\n",
    "c23=Conv3D(filters=128, kernel_size=(1,1,3), activation='relu')(c22)\n",
    "c23_shape = c23._keras_shape\n",
    "f2=Reshape((c23_shape [1], c23_shape [2], c23_shape [3]*c23_shape[4]),name='op2')(c23)\n",
    "model_b = Model(inputs=inputB, outputs=f2)  \n",
    "model_b.summary()"
   ]
  },
  {
   "cell_type": "code",
   "execution_count": 110,
   "metadata": {},
   "outputs": [
    {
     "name": "stdout",
     "output_type": "stream",
     "text": [
      "_________________________________________________________________\n",
      "Layer (type)                 Output Shape              Param #   \n",
      "=================================================================\n",
      "input_19 (InputLayer)        (None, 11, 11, 15, 1)     0         \n",
      "_________________________________________________________________\n",
      "conv3d_43 (Conv3D)           (None, 9, 9, 9, 32)       2048      \n",
      "_________________________________________________________________\n",
      "conv3d_44 (Conv3D)           (None, 9, 9, 5, 64)       10304     \n",
      "_________________________________________________________________\n",
      "conv3d_45 (Conv3D)           (None, 9, 9, 3, 128)      24704     \n",
      "_________________________________________________________________\n",
      "op3 (Reshape)                (None, 9, 9, 384)         0         \n",
      "=================================================================\n",
      "Total params: 37,056\n",
      "Trainable params: 37,056\n",
      "Non-trainable params: 0\n",
      "_________________________________________________________________\n"
     ]
    }
   ],
   "source": [
    "inputC=Input((11,11,15,1))\n",
    "c31=Conv3D(filters=32, kernel_size=(3,3,7), activation='relu')(inputC)\n",
    "#c31=BatchNormalization()(c31)\n",
    "c32=Conv3D(filters=64, kernel_size=(1,1,5), activation='relu')(c31)\n",
    "#c32=BatchNormalization()(c32)\n",
    "c33=Conv3D(filters=128, kernel_size=(1,1,3), activation='relu')(c32)\n",
    "c33_shape = c33._keras_shape\n",
    "f3=Reshape((c33_shape [1], c33_shape [2], c33_shape [3]*c33_shape[4]),name='op3')(c33)\n",
    "model_c = Model(inputs=inputC, outputs=f3)  \n",
    "model_c.summary()"
   ]
  },
  {
   "cell_type": "markdown",
   "metadata": {},
   "source": [
    "inputD=Input((13,13,15,1))\n",
    "c41=Conv3D(filters=16, kernel_size=(3,3,7), activation='relu')(inputD)\n",
    "c42=Conv3D(filters=32, kernel_size=(5,5,5), activation='relu')(c41)\n",
    "c43=Conv3D(filters=64, kernel_size=(7,7,3), activation='relu')(c42)\n",
    "c43_shape = c43._keras_shape\n",
    "f4=Reshape((c43_shape [1], c43_shape [2], c43_shape [3]*c43_shape[4]),name='op4')(c43)\n",
    "model_d = Model(inputs=inputD, outputs=f4)  \n",
    "model_d.summary()"
   ]
  },
  {
   "cell_type": "code",
   "execution_count": 111,
   "metadata": {},
   "outputs": [],
   "source": [
    "ip_from_a = model_a.get_layer(\"op1\").output\n",
    "ip_from_b = model_b.get_layer(\"op2\").output\n",
    "ip_from_c = model_c.get_layer(\"op3\").output\n",
    "#ip_from_d = model_d.get_layer(\"op4\").output\n",
    "#Feature_ip= concatenate([ip_from_a,ip_from_b,ip_from_c,ip_from_d])\n",
    "#print(Feature_ip.shape)"
   ]
  },
  {
   "cell_type": "code",
   "execution_count": 112,
   "metadata": {},
   "outputs": [
    {
     "name": "stdout",
     "output_type": "stream",
     "text": [
      "__________________________________________________________________________________________________\n",
      "Layer (type)                    Output Shape         Param #     Connected to                     \n",
      "==================================================================================================\n",
      "input_17 (InputLayer)           (None, 15, 15, 15, 1 0                                            \n",
      "__________________________________________________________________________________________________\n",
      "input_18 (InputLayer)           (None, 13, 13, 15, 1 0                                            \n",
      "__________________________________________________________________________________________________\n",
      "input_19 (InputLayer)           (None, 11, 11, 15, 1 0                                            \n",
      "__________________________________________________________________________________________________\n",
      "conv3d_37 (Conv3D)              (None, 13, 13, 9, 32 2048        input_17[0][0]                   \n",
      "__________________________________________________________________________________________________\n",
      "conv3d_40 (Conv3D)              (None, 11, 11, 9, 32 2048        input_18[0][0]                   \n",
      "__________________________________________________________________________________________________\n",
      "conv3d_43 (Conv3D)              (None, 9, 9, 9, 32)  2048        input_19[0][0]                   \n",
      "__________________________________________________________________________________________________\n",
      "conv3d_38 (Conv3D)              (None, 11, 11, 5, 64 92224       conv3d_37[0][0]                  \n",
      "__________________________________________________________________________________________________\n",
      "conv3d_41 (Conv3D)              (None, 9, 9, 5, 64)  92224       conv3d_40[0][0]                  \n",
      "__________________________________________________________________________________________________\n",
      "conv3d_44 (Conv3D)              (None, 9, 9, 5, 64)  10304       conv3d_43[0][0]                  \n",
      "__________________________________________________________________________________________________\n",
      "conv3d_39 (Conv3D)              (None, 9, 9, 3, 128) 221312      conv3d_38[0][0]                  \n",
      "__________________________________________________________________________________________________\n",
      "conv3d_42 (Conv3D)              (None, 9, 9, 3, 128) 24704       conv3d_41[0][0]                  \n",
      "__________________________________________________________________________________________________\n",
      "conv3d_45 (Conv3D)              (None, 9, 9, 3, 128) 24704       conv3d_44[0][0]                  \n",
      "__________________________________________________________________________________________________\n",
      "op1 (Reshape)                   (None, 9, 9, 384)    0           conv3d_39[0][0]                  \n",
      "__________________________________________________________________________________________________\n",
      "op2 (Reshape)                   (None, 9, 9, 384)    0           conv3d_42[0][0]                  \n",
      "__________________________________________________________________________________________________\n",
      "op3 (Reshape)                   (None, 9, 9, 384)    0           conv3d_45[0][0]                  \n",
      "__________________________________________________________________________________________________\n",
      "input_20 (InputLayer)           (None, 9, 9, 15)     0                                            \n",
      "__________________________________________________________________________________________________\n",
      "concatenate_5 (Concatenate)     (None, 9, 9, 1167)   0           op1[0][0]                        \n",
      "                                                                 op2[0][0]                        \n",
      "                                                                 op3[0][0]                        \n",
      "                                                                 input_20[0][0]                   \n",
      "__________________________________________________________________________________________________\n",
      "conv2d_9 (Conv2D)               (None, 5, 5, 64)     1867264     concatenate_5[0][0]              \n",
      "__________________________________________________________________________________________________\n",
      "conv2d_10 (Conv2D)              (None, 3, 3, 128)    73856       conv2d_9[0][0]                   \n",
      "__________________________________________________________________________________________________\n",
      "flatten_5 (Flatten)             (None, 1152)         0           conv2d_10[0][0]                  \n",
      "__________________________________________________________________________________________________\n",
      "dense_14 (Dense)                (None, 128)          147584      flatten_5[0][0]                  \n",
      "__________________________________________________________________________________________________\n",
      "dropout_10 (Dropout)            (None, 128)          0           dense_14[0][0]                   \n",
      "__________________________________________________________________________________________________\n",
      "dense_15 (Dense)                (None, 16)           2064        dropout_10[0][0]                 \n",
      "==================================================================================================\n",
      "Total params: 2,562,384\n",
      "Trainable params: 2,562,384\n",
      "Non-trainable params: 0\n",
      "__________________________________________________________________________________________________\n"
     ]
    }
   ],
   "source": [
    "inputE=Input((9,9,15))\n",
    "Feature_ip1= concatenate([ip_from_a,ip_from_b,ip_from_c,inputE])\n",
    "conv_layer1=Conv2D(filters=64, kernel_size=(5,5), activation='relu')(Feature_ip1)\n",
    "conv_layer2 = Conv2D(filters=128,kernel_size=(3,3), activation='relu')(conv_layer1)\n",
    "flatten_layer = Flatten()(conv_layer2)\n",
    "dense_layer1 = Dense(units=256, activation='relu')(flatten_layer)\n",
    "#dense_layer1=BatchNormalization()(dense_layer1)\n",
    "dense_layer1 = Dropout(0.2)(dense_layer1)\n",
    "dense_layer2 = Dense(units=128, activation='relu')(flatten_layer)\n",
    "#dense_layer2=BatchNormalization()(dense_layer2)\n",
    "dense_layer2 = Dropout(0.2)(dense_layer2)\n",
    "output_layer = Dense(units=16, activation='softmax')(dense_layer2)\n",
    "model_e = Model(inputs=[model_a.input,model_b.input,model_c.input,inputE], outputs=output_layer)\n",
    "model_e.summary()"
   ]
  },
  {
   "cell_type": "code",
   "execution_count": 113,
   "metadata": {},
   "outputs": [],
   "source": [
    "# compiling the model\n",
    "adam = Adam(lr=0.001, decay=1e-06)\n",
    "model_e.compile(loss='categorical_crossentropy', optimizer=adam, metrics=['accuracy'])"
   ]
  },
  {
   "cell_type": "code",
   "execution_count": 114,
   "metadata": {},
   "outputs": [],
   "source": [
    "filepath = \"PropM5Test.hdf5\"\n",
    "checkpoint = ModelCheckpoint(filepath, monitor='acc', verbose=1, save_best_only=True, mode='max')\n",
    "earlyStopping=  EarlyStopping(monitor='val_loss', patience=10, verbose=1, mode='auto')\n",
    "callbacks_list = [checkpoint]"
   ]
  },
  {
   "cell_type": "code",
   "execution_count": 115,
   "metadata": {},
   "outputs": [
    {
     "name": "stdout",
     "output_type": "stream",
     "text": [
      "(3279, 16)\n",
      "(820, 16)\n"
     ]
    }
   ],
   "source": [
    "ytrain4 = np_utils.to_categorical(ytrain4,num_classes=16)\n",
    "print(ytrain4.shape)\n",
    "yvalid4 = np_utils.to_categorical(yvalid4,num_classes=16)\n",
    "print(yvalid4.shape)"
   ]
  },
  {
   "cell_type": "code",
   "execution_count": 116,
   "metadata": {},
   "outputs": [
    {
     "name": "stdout",
     "output_type": "stream",
     "text": [
      "Train on 3279 samples, validate on 820 samples\n",
      "Epoch 1/50\n",
      "3279/3279 [==============================] - 22s 7ms/step - loss: 2.1872 - acc: 0.2745 - val_loss: 1.5832 - val_acc: 0.4134\n",
      "\n",
      "Epoch 00001: acc improved from -inf to 0.27447, saving model to PropM5Test.hdf5\n",
      "Epoch 2/50\n",
      "3279/3279 [==============================] - 20s 6ms/step - loss: 1.4705 - acc: 0.4681 - val_loss: 1.1077 - val_acc: 0.5488\n",
      "\n",
      "Epoch 00002: acc improved from 0.27447 to 0.46813, saving model to PropM5Test.hdf5\n",
      "Epoch 3/50\n",
      "3279/3279 [==============================] - 21s 6ms/step - loss: 1.0246 - acc: 0.6136 - val_loss: 0.7511 - val_acc: 0.7159\n",
      "\n",
      "Epoch 00003: acc improved from 0.46813 to 0.61360, saving model to PropM5Test.hdf5\n",
      "Epoch 4/50\n",
      "3279/3279 [==============================] - 21s 6ms/step - loss: 0.6817 - acc: 0.7435 - val_loss: 0.4629 - val_acc: 0.8280\n",
      "\n",
      "Epoch 00004: acc improved from 0.61360 to 0.74352, saving model to PropM5Test.hdf5\n",
      "Epoch 5/50\n",
      "3279/3279 [==============================] - 20s 6ms/step - loss: 0.4300 - acc: 0.8442 - val_loss: 0.2871 - val_acc: 0.8793\n",
      "\n",
      "Epoch 00005: acc improved from 0.74352 to 0.84416, saving model to PropM5Test.hdf5\n",
      "Epoch 6/50\n",
      "3279/3279 [==============================] - 20s 6ms/step - loss: 0.2997 - acc: 0.8881 - val_loss: 0.2858 - val_acc: 0.8976\n",
      "\n",
      "Epoch 00006: acc improved from 0.84416 to 0.88808, saving model to PropM5Test.hdf5\n",
      "Epoch 7/50\n",
      "3279/3279 [==============================] - 20s 6ms/step - loss: 0.2414 - acc: 0.9158 - val_loss: 0.1864 - val_acc: 0.9439\n",
      "\n",
      "Epoch 00007: acc improved from 0.88808 to 0.91583, saving model to PropM5Test.hdf5\n",
      "Epoch 8/50\n",
      "3279/3279 [==============================] - 20s 6ms/step - loss: 0.1505 - acc: 0.9527 - val_loss: 0.1205 - val_acc: 0.9622\n",
      "\n",
      "Epoch 00008: acc improved from 0.91583 to 0.95273, saving model to PropM5Test.hdf5\n",
      "Epoch 9/50\n",
      "3279/3279 [==============================] - 20s 6ms/step - loss: 0.0967 - acc: 0.9674 - val_loss: 0.1169 - val_acc: 0.9598\n",
      "\n",
      "Epoch 00009: acc improved from 0.95273 to 0.96737, saving model to PropM5Test.hdf5\n",
      "Epoch 10/50\n",
      "3279/3279 [==============================] - 21s 6ms/step - loss: 0.0893 - acc: 0.9707 - val_loss: 0.1442 - val_acc: 0.9476\n",
      "\n",
      "Epoch 00010: acc improved from 0.96737 to 0.97072, saving model to PropM5Test.hdf5\n",
      "Epoch 11/50\n",
      "3279/3279 [==============================] - 20s 6ms/step - loss: 0.1323 - acc: 0.9561 - val_loss: 0.1863 - val_acc: 0.9476\n",
      "\n",
      "Epoch 00011: acc did not improve from 0.97072\n",
      "Epoch 12/50\n",
      "3279/3279 [==============================] - 20s 6ms/step - loss: 0.1085 - acc: 0.9652 - val_loss: 0.0758 - val_acc: 0.9793\n",
      "\n",
      "Epoch 00012: acc did not improve from 0.97072\n",
      "Epoch 13/50\n",
      "3279/3279 [==============================] - 20s 6ms/step - loss: 0.0584 - acc: 0.9832 - val_loss: 0.0702 - val_acc: 0.9780\n",
      "\n",
      "Epoch 00013: acc improved from 0.97072 to 0.98323, saving model to PropM5Test.hdf5\n",
      "Epoch 14/50\n",
      "3279/3279 [==============================] - 21s 6ms/step - loss: 0.0339 - acc: 0.9915 - val_loss: 0.0389 - val_acc: 0.9829\n",
      "\n",
      "Epoch 00014: acc improved from 0.98323 to 0.99146, saving model to PropM5Test.hdf5\n",
      "Epoch 15/50\n",
      "3279/3279 [==============================] - 21s 6ms/step - loss: 0.0330 - acc: 0.9918 - val_loss: 0.0450 - val_acc: 0.9866\n",
      "\n",
      "Epoch 00015: acc improved from 0.99146 to 0.99177, saving model to PropM5Test.hdf5\n",
      "Epoch 16/50\n",
      "3279/3279 [==============================] - 21s 6ms/step - loss: 0.0273 - acc: 0.9902 - val_loss: 0.0625 - val_acc: 0.9829\n",
      "\n",
      "Epoch 00016: acc did not improve from 0.99177\n",
      "Epoch 17/50\n",
      "3279/3279 [==============================] - 20s 6ms/step - loss: 0.0258 - acc: 0.9915 - val_loss: 0.0238 - val_acc: 0.9890\n",
      "\n",
      "Epoch 00017: acc did not improve from 0.99177\n",
      "Epoch 18/50\n",
      "3279/3279 [==============================] - 20s 6ms/step - loss: 0.0214 - acc: 0.9942 - val_loss: 0.0570 - val_acc: 0.9829\n",
      "\n",
      "Epoch 00018: acc improved from 0.99177 to 0.99421, saving model to PropM5Test.hdf5\n",
      "Epoch 19/50\n",
      "3279/3279 [==============================] - 20s 6ms/step - loss: 0.0214 - acc: 0.9927 - val_loss: 0.1130 - val_acc: 0.9720\n",
      "\n",
      "Epoch 00019: acc did not improve from 0.99421\n",
      "Epoch 20/50\n",
      "3279/3279 [==============================] - 20s 6ms/step - loss: 0.0259 - acc: 0.9927 - val_loss: 0.0665 - val_acc: 0.9854\n",
      "\n",
      "Epoch 00020: acc did not improve from 0.99421\n",
      "Epoch 21/50\n",
      "3279/3279 [==============================] - 20s 6ms/step - loss: 0.0430 - acc: 0.9881 - val_loss: 0.0521 - val_acc: 0.9841\n",
      "\n",
      "Epoch 00021: acc did not improve from 0.99421\n",
      "Epoch 22/50\n",
      "3279/3279 [==============================] - 20s 6ms/step - loss: 0.0365 - acc: 0.9869 - val_loss: 0.0286 - val_acc: 0.9927\n",
      "\n",
      "Epoch 00022: acc did not improve from 0.99421\n",
      "Epoch 23/50\n",
      "3279/3279 [==============================] - 20s 6ms/step - loss: 0.0239 - acc: 0.9915 - val_loss: 0.0488 - val_acc: 0.9817\n",
      "\n",
      "Epoch 00023: acc did not improve from 0.99421\n",
      "Epoch 24/50\n",
      "3279/3279 [==============================] - 20s 6ms/step - loss: 0.0245 - acc: 0.9912 - val_loss: 0.1562 - val_acc: 0.9671\n",
      "\n",
      "Epoch 00024: acc did not improve from 0.99421\n",
      "Epoch 25/50\n",
      "3279/3279 [==============================] - 20s 6ms/step - loss: 0.0464 - acc: 0.9884 - val_loss: 0.0867 - val_acc: 0.9768\n",
      "\n",
      "Epoch 00025: acc did not improve from 0.99421\n",
      "Epoch 26/50\n",
      "3279/3279 [==============================] - 20s 6ms/step - loss: 0.0323 - acc: 0.9912 - val_loss: 0.0770 - val_acc: 0.9732\n",
      "\n",
      "Epoch 00026: acc did not improve from 0.99421\n",
      "Epoch 27/50\n",
      "3279/3279 [==============================] - 20s 6ms/step - loss: 0.0530 - acc: 0.9854 - val_loss: 0.0624 - val_acc: 0.9829\n",
      "\n",
      "Epoch 00027: acc did not improve from 0.99421\n",
      "Epoch 28/50\n",
      "3279/3279 [==============================] - 20s 6ms/step - loss: 0.0509 - acc: 0.9857 - val_loss: 0.0478 - val_acc: 0.9829\n",
      "\n",
      "Epoch 00028: acc did not improve from 0.99421\n",
      "Epoch 29/50\n",
      "3279/3279 [==============================] - 20s 6ms/step - loss: 0.0307 - acc: 0.9930 - val_loss: 0.0451 - val_acc: 0.9854\n",
      "\n",
      "Epoch 00029: acc did not improve from 0.99421\n",
      "Epoch 30/50\n",
      "3279/3279 [==============================] - 20s 6ms/step - loss: 0.0143 - acc: 0.9963 - val_loss: 0.0302 - val_acc: 0.9927\n",
      "\n",
      "Epoch 00030: acc improved from 0.99421 to 0.99634, saving model to PropM5Test.hdf5\n",
      "Epoch 31/50\n",
      "3279/3279 [==============================] - 20s 6ms/step - loss: 0.0056 - acc: 0.9985 - val_loss: 0.0437 - val_acc: 0.9878\n",
      "\n",
      "Epoch 00031: acc improved from 0.99634 to 0.99848, saving model to PropM5Test.hdf5\n",
      "Epoch 32/50\n",
      "3279/3279 [==============================] - 20s 6ms/step - loss: 0.0042 - acc: 0.9991 - val_loss: 0.0858 - val_acc: 0.9878\n",
      "\n",
      "Epoch 00032: acc improved from 0.99848 to 0.99909, saving model to PropM5Test.hdf5\n",
      "Epoch 33/50\n",
      "3279/3279 [==============================] - 20s 6ms/step - loss: 0.0040 - acc: 0.9991 - val_loss: 0.0349 - val_acc: 0.9902\n",
      "\n",
      "Epoch 00033: acc did not improve from 0.99909\n",
      "Epoch 34/50\n",
      "3279/3279 [==============================] - 20s 6ms/step - loss: 0.0200 - acc: 0.9957 - val_loss: 0.1772 - val_acc: 0.9707\n",
      "\n",
      "Epoch 00034: acc did not improve from 0.99909\n",
      "Epoch 35/50\n",
      "3279/3279 [==============================] - 20s 6ms/step - loss: 0.0570 - acc: 0.9838 - val_loss: 0.0469 - val_acc: 0.9829\n",
      "\n",
      "Epoch 00035: acc did not improve from 0.99909\n",
      "Epoch 36/50\n",
      "3279/3279 [==============================] - 20s 6ms/step - loss: 0.0441 - acc: 0.9875 - val_loss: 0.1041 - val_acc: 0.9780\n",
      "\n",
      "Epoch 00036: acc did not improve from 0.99909\n",
      "Epoch 37/50\n",
      "3279/3279 [==============================] - 20s 6ms/step - loss: 0.0205 - acc: 0.9945 - val_loss: 0.0506 - val_acc: 0.9829\n",
      "\n",
      "Epoch 00037: acc did not improve from 0.99909\n",
      "Epoch 38/50\n",
      "3279/3279 [==============================] - 20s 6ms/step - loss: 0.0076 - acc: 0.9976 - val_loss: 0.0411 - val_acc: 0.9878\n",
      "\n",
      "Epoch 00038: acc did not improve from 0.99909\n",
      "Epoch 39/50\n",
      "3279/3279 [==============================] - 21s 6ms/step - loss: 0.0072 - acc: 0.9976 - val_loss: 0.0438 - val_acc: 0.9927\n",
      "\n",
      "Epoch 00039: acc did not improve from 0.99909\n",
      "Epoch 40/50\n",
      "3279/3279 [==============================] - 20s 6ms/step - loss: 0.0181 - acc: 0.9948 - val_loss: 0.1092 - val_acc: 0.9793\n",
      "\n",
      "Epoch 00040: acc did not improve from 0.99909\n",
      "Epoch 41/50\n",
      "3279/3279 [==============================] - 21s 6ms/step - loss: 0.0218 - acc: 0.9957 - val_loss: 0.0657 - val_acc: 0.9829\n",
      "\n",
      "Epoch 00041: acc did not improve from 0.99909\n",
      "Epoch 42/50\n"
     ]
    },
    {
     "name": "stdout",
     "output_type": "stream",
     "text": [
      "3279/3279 [==============================] - 20s 6ms/step - loss: 0.0151 - acc: 0.9948 - val_loss: 0.0412 - val_acc: 0.9915\n",
      "\n",
      "Epoch 00042: acc did not improve from 0.99909\n",
      "Epoch 43/50\n",
      "3279/3279 [==============================] - 21s 6ms/step - loss: 0.0098 - acc: 0.9966 - val_loss: 0.0409 - val_acc: 0.9854\n",
      "\n",
      "Epoch 00043: acc did not improve from 0.99909\n",
      "Epoch 44/50\n",
      "3279/3279 [==============================] - 20s 6ms/step - loss: 0.0223 - acc: 0.9945 - val_loss: 0.0954 - val_acc: 0.9793\n",
      "\n",
      "Epoch 00044: acc did not improve from 0.99909\n",
      "Epoch 45/50\n",
      "3279/3279 [==============================] - 20s 6ms/step - loss: 0.0146 - acc: 0.9957 - val_loss: 0.0473 - val_acc: 0.9866\n",
      "\n",
      "Epoch 00045: acc did not improve from 0.99909\n",
      "Epoch 46/50\n",
      "3279/3279 [==============================] - 20s 6ms/step - loss: 0.0138 - acc: 0.9960 - val_loss: 0.0568 - val_acc: 0.9878\n",
      "\n",
      "Epoch 00046: acc did not improve from 0.99909\n",
      "Epoch 47/50\n",
      "3279/3279 [==============================] - 20s 6ms/step - loss: 0.0070 - acc: 0.9973 - val_loss: 0.0671 - val_acc: 0.9866\n",
      "\n",
      "Epoch 00047: acc did not improve from 0.99909\n",
      "Epoch 48/50\n",
      "3279/3279 [==============================] - 20s 6ms/step - loss: 0.0065 - acc: 0.9991 - val_loss: 0.0646 - val_acc: 0.9866\n",
      "\n",
      "Epoch 00048: acc did not improve from 0.99909\n",
      "Epoch 49/50\n",
      "3279/3279 [==============================] - 20s 6ms/step - loss: 0.0727 - acc: 0.9902 - val_loss: 0.2792 - val_acc: 0.9646\n",
      "\n",
      "Epoch 00049: acc did not improve from 0.99909\n",
      "Epoch 50/50\n",
      "3279/3279 [==============================] - 20s 6ms/step - loss: 0.1114 - acc: 0.9762 - val_loss: 0.0954 - val_acc: 0.9768\n",
      "\n",
      "Epoch 00050: acc did not improve from 0.99909\n",
      "1025.4228549\n"
     ]
    }
   ],
   "source": [
    "import time\n",
    "start = time.time()\n",
    "history = model_e.fit(x=[Xtrain1,Xtrain2,Xtrain3,Xtrain4], y=ytrain4, batch_size=200, epochs=50, callbacks=callbacks_list,validation_data=([Xvalid1,Xvalid2,Xvalid3,Xvalid4],yvalid4))\n",
    "end = time.time()\n",
    "print(end - start)"
   ]
  },
  {
   "cell_type": "code",
   "execution_count": 117,
   "metadata": {},
   "outputs": [
    {
     "name": "stdout",
     "output_type": "stream",
     "text": [
      "('Total Elapsed Runtime:', '0:17:5')\n"
     ]
    }
   ],
   "source": [
    "tot_time=end-start\n",
    "print(\"Total Elapsed Runtime:\",str(int((tot_time/3600)))+\":\"+str(int((tot_time%3600)/60))+\":\"+str(int((tot_time%3600)%60)) )"
   ]
  },
  {
   "cell_type": "code",
   "execution_count": 118,
   "metadata": {},
   "outputs": [
    {
     "data": {
      "image/png": "[encoded data removed]",
      "text/plain": [
       "<Figure size 504x504 with 1 Axes>"
      ]
     },
     "metadata": {
      "needs_background": "light"
     },
     "output_type": "display_data"
    }
   ],
   "source": [
    "plt.figure(figsize=(7,7))\n",
    "plt.grid()\n",
    "plt.plot(history.history['loss'])\n",
    "plt.plot(history.history['val_loss'])\n",
    "plt.ylabel('Loss')\n",
    "plt.xlabel('Epochs')\n",
    "plt.legend(['Training','Validation'], loc='upper right')\n",
    "plt.savefig(\"proM(eq)_loss.png\")\n",
    "plt.show()"
   ]
  },
  {
   "cell_type": "code",
   "execution_count": 119,
   "metadata": {},
   "outputs": [
    {
     "data": {
      "image/png": "[encoded data removed]",
      "text/plain": [
       "<Figure size 360x360 with 1 Axes>"
      ]
     },
     "metadata": {
      "needs_background": "light"
     },
     "output_type": "display_data"
    }
   ],
   "source": [
    "plt.figure(figsize=(5,5))\n",
    "plt.ylim(0,1.1)\n",
    "plt.grid()\n",
    "plt.plot(history.history['acc'])\n",
    "plt.plot(history.history['val_acc'])\n",
    "plt.ylabel('Accuracy')\n",
    "plt.xlabel('Epochs')\n",
    "plt.legend(['Training','Validation'])\n",
    "plt.savefig(\"propM5(eq)_acc.png\")\n",
    "plt.show()"
   ]
  },
  {
   "cell_type": "code",
   "execution_count": null,
   "metadata": {},
   "outputs": [],
   "source": [
    "# load best weights\n",
    "model_e.load_weights(\"PropM5.hdf5\")\n",
    "model_e.compile(loss='categorical_crossentropy', optimizer=adam, metrics=['accuracy'])"
   ]
  },
  {
   "cell_type": "code",
   "execution_count": null,
   "metadata": {},
   "outputs": [],
   "source": [
    "Xtest1 = Xtest1.reshape(-1,15,15,K,1)\n",
    "print(Xtest1.shape)\n",
    "Xtest2 = Xtest2.reshape(-1,13,13,K,1)\n",
    "print(Xtest2.shape)\n",
    "Xtest3 = Xtest3.reshape(-1,11,11,K,1)\n",
    "print(Xtest3.shape)\n",
    "Xtest4 = Xtest4.reshape(-1,9,9,K)\n",
    "print(Xtest4.shape)\n",
    "#Xtest5 = Xtest5.reshape(-1,13,13,K)\n",
    "#print(Xtest5.shape)"
   ]
  },
  {
   "cell_type": "code",
   "execution_count": 22,
   "metadata": {},
   "outputs": [
    {
     "name": "stdout",
     "output_type": "stream",
     "text": [
      "(4100, 16)\n",
      "(4100, 16)\n",
      "(4100, 16)\n",
      "(4100, 16)\n"
     ]
    }
   ],
   "source": [
    "ytest1 = np_utils.to_categorical(ytest1)\n",
    "print(ytest1.shape)\n",
    "ytest2 = np_utils.to_categorical(ytest2)\n",
    "print(ytest2.shape)\n",
    "ytest3 = np_utils.to_categorical(ytest3)\n",
    "print(ytest3.shape)\n",
    "ytest4 = np_utils.to_categorical(ytest4)\n",
    "print(ytest4.shape)\n",
    "#ytest5 = np_utils.to_categorical(ytest5)\n",
    "#print(ytest5.shape)"
   ]
  },
  {
   "cell_type": "code",
   "execution_count": 23,
   "metadata": {},
   "outputs": [
    {
     "name": "stdout",
     "output_type": "stream",
     "text": [
      "              precision    recall  f1-score   support\n",
      "\n",
      "           0       1.00      1.00      1.00        19\n",
      "           1       0.99      0.99      0.99       571\n",
      "           2       1.00      1.00      1.00       332\n",
      "           3       1.00      1.00      1.00        95\n",
      "           4       0.99      0.99      0.99       193\n",
      "           5       1.00      1.00      1.00       292\n",
      "           6       1.00      1.00      1.00        11\n",
      "           7       0.99      1.00      1.00       191\n",
      "           8       1.00      1.00      1.00         8\n",
      "           9       1.00      0.99      1.00       389\n",
      "          10       1.00      0.99      1.00       982\n",
      "          11       0.99      1.00      0.99       237\n",
      "          12       1.00      1.00      1.00        82\n",
      "          13       1.00      1.00      1.00       506\n",
      "          14       0.99      1.00      1.00       155\n",
      "          15       1.00      1.00      1.00        37\n",
      "\n",
      "   micro avg       1.00      1.00      1.00      4100\n",
      "   macro avg       1.00      1.00      1.00      4100\n",
      "weighted avg       1.00      1.00      1.00      4100\n",
      "\n"
     ]
    }
   ],
   "source": [
    "Y_pred_test = model_e.predict([Xtest1,Xtest2,Xtest3,Xtest4])\n",
    "y_pred_test = np.argmax(Y_pred_test, axis=1)\n",
    "classification = classification_report(np.argmax(ytest4, axis=1), y_pred_test)\n",
    "print(classification)"
   ]
  },
  {
   "cell_type": "code",
   "execution_count": 24,
   "metadata": {},
   "outputs": [],
   "source": [
    "def AA_andEachClassAccuracy(confusion_matrix):\n",
    "    counter = confusion_matrix.shape[0]\n",
    "    list_diag = np.diag(confusion_matrix)\n",
    "    list_raw_sum = np.sum(confusion_matrix, axis=1)\n",
    "    each_acc = np.nan_to_num(truediv(list_diag, list_raw_sum))\n",
    "    average_acc = np.mean(each_acc)\n",
    "    return each_acc, average_acc"
   ]
  },
  {
   "cell_type": "code",
   "execution_count": 25,
   "metadata": {},
   "outputs": [],
   "source": [
    "def reports (X_test,y_test):\n",
    "    #start = time.time()\n",
    "    Y_pred = model_e.predict(X_test)\n",
    "    y_pred = np.argmax(Y_pred, axis=1)\n",
    "    #end = time.time()\n",
    "    #print(end - start)\n",
    "    \n",
    "    target_names = ['Alfalfa', 'Corn-notill', 'Corn-mintill', 'Corn'\n",
    "                        ,'Grass-pasture', 'Grass-trees', 'Grass-pasture-mowed', \n",
    "                        'Hay-windrowed', 'Oats', 'Soybean-notill', 'Soybean-mintill',\n",
    "                        'Soybean-clean', 'Wheat', 'Woods', 'Buildings-Grass-Trees-Drives',\n",
    "                        'Stone-Steel-Towers']   \n",
    "    classification = classification_report(np.argmax(y_test, axis=1), y_pred, target_names=target_names)\n",
    "    oa = accuracy_score(np.argmax(y_test, axis=1), y_pred)\n",
    "    confusion = confusion_matrix(np.argmax(y_test, axis=1), y_pred)\n",
    "    each_acc, aa = AA_andEachClassAccuracy(confusion)\n",
    "    kappa = cohen_kappa_score(np.argmax(y_test, axis=1), y_pred)\n",
    "    score = model_e.evaluate(X_test, y_test, batch_size=32)\n",
    "    Test_Loss =  score[0]*100\n",
    "    Test_accuracy = score[1]*100\n",
    "    \n",
    "    return classification, confusion, Test_Loss, Test_accuracy, oa*100, each_acc*100, aa*100, kappa*100"
   ]
  },
  {
   "cell_type": "code",
   "execution_count": 28,
   "metadata": {},
   "outputs": [
    {
     "name": "stdout",
     "output_type": "stream",
     "text": [
      "4100/4100 [==============================] - 8s 2ms/step\n"
     ]
    }
   ],
   "source": [
    "classification, confusion, Test_loss, Test_accuracy, oa, each_acc, aa, kappa = reports([Xtest1,Xtest2,Xtest3,Xtest4],ytest4)\n",
    "classification = str(classification)\n",
    "confusion = str(confusion)\n",
    "file_name = \"prop_M5.txt\"\n",
    "\n",
    "with open(file_name, 'w') as x_file:\n",
    "    x_file.write('{} Test loss (%)'.format(Test_loss))\n",
    "    x_file.write('\\n')\n",
    "    x_file.write('{} Test accuracy (%)'.format(Test_accuracy))\n",
    "    x_file.write('\\n')\n",
    "    x_file.write('\\n')\n",
    "    x_file.write('{} Kappa accuracy (%)'.format(kappa))\n",
    "    x_file.write('\\n')\n",
    "    x_file.write('{} Overall accuracy (%)'.format(oa))\n",
    "    x_file.write('\\n')\n",
    "    x_file.write('{} Average accuracy (%)'.format(aa))\n",
    "    x_file.write('\\n')\n",
    "    x_file.write('\\n')\n",
    "    x_file.write('{}'.format(classification))\n",
    "    x_file.write('\\n')\n",
    "    x_file.write('{}'.format(confusion))"
   ]
  },
  {
   "cell_type": "code",
   "execution_count": 29,
   "metadata": {},
   "outputs": [],
   "source": [
    "def Patch(data,height_index,width_index,PATCH_SIZE):\n",
    "    height_slice = slice(height_index, height_index+PATCH_SIZE)\n",
    "    width_slice = slice(width_index, width_index+PATCH_SIZE)\n",
    "    patch = data[height_slice, width_slice, :]\n",
    "    \n",
    "    return patch"
   ]
  },
  {
   "cell_type": "code",
   "execution_count": 30,
   "metadata": {},
   "outputs": [],
   "source": [
    "# load the original image\n",
    "X, y = loadData()"
   ]
  },
  {
   "cell_type": "code",
   "execution_count": 31,
   "metadata": {},
   "outputs": [],
   "source": [
    "height = y.shape[0]\n",
    "width = y.shape[1]\n",
    "#PATCH_SIZE = [25,23,21,19,13]\n",
    "numComponents = K"
   ]
  },
  {
   "cell_type": "code",
   "execution_count": 32,
   "metadata": {},
   "outputs": [],
   "source": [
    "X1 = padWithZeros(X, 15//2)\n",
    "X2 = padWithZeros(X, 13//2)\n",
    "X3 = padWithZeros(X, 11//2)\n",
    "X4 = padWithZeros(X, 9//2)\n",
    "#X5 = padWithZeros(X, 13//2)"
   ]
  },
  {
   "cell_type": "code",
   "execution_count": 33,
   "metadata": {},
   "outputs": [],
   "source": [
    "# calculate the predicted image\n",
    "outputs = np.zeros((height,width))\n",
    "for i in range(height):\n",
    "    for j in range(width):\n",
    "        target = int(y[i,j])\n",
    "        if target == 0 :\n",
    "            continue\n",
    "        else :\n",
    "            image_patch1=Patch(X1,i,j,15)\n",
    "            X_test_image1 = image_patch1.reshape(1,image_patch1.shape[0],image_patch1.shape[1], image_patch1.shape[2],1).astype('float32')\n",
    "            image_patch2=Patch(X2,i,j,13)\n",
    "            X_test_image2 = image_patch2.reshape(1,image_patch2.shape[0],image_patch2.shape[1], image_patch2.shape[2],1).astype('float32')\n",
    "            image_patch3=Patch(X3,i,j,11)\n",
    "            X_test_image3 = image_patch3.reshape(1,image_patch3.shape[0],image_patch3.shape[1], image_patch3.shape[2],1).astype('float32')\n",
    "            image_patch4=Patch(X4,i,j,9)\n",
    "            X_test_image4 = image_patch4.reshape(1,image_patch4.shape[0],image_patch4.shape[1], image_patch4.shape[2]).astype('float32')\n",
    "            #image_patch5=Patch(X5,i,j,13)\n",
    "            #X_test_image5 = image_patch5.reshape(1,image_patch5.shape[0],image_patch5.shape[1], image_patch5.shape[2]).astype('float32')                                   \n",
    "            prediction = (model_e.predict([X_test_image1,X_test_image2,X_test_image3,X_test_image4]))\n",
    "            prediction = np.argmax(prediction, axis=1)\n",
    "            outputs[i][j] = prediction+1"
   ]
  },
  {
   "cell_type": "code",
   "execution_count": 34,
   "metadata": {},
   "outputs": [
    {
     "data": {
      "image/png": "[encoded data removed]",
      "text/plain": [
       "<Figure size 504x504 with 1 Axes>"
      ]
     },
     "metadata": {
      "needs_background": "light"
     },
     "output_type": "display_data"
    }
   ],
   "source": [
    "predict_image = spectral.imshow(classes = outputs.astype(int),figsize =(7,7))"
   ]
  },
  {
   "cell_type": "code",
   "execution_count": 35,
   "metadata": {},
   "outputs": [
    {
     "data": {
      "image/png": "[encoded data removed]",
      "text/plain": [
       "<Figure size 504x504 with 1 Axes>"
      ]
     },
     "metadata": {
      "needs_background": "light"
     },
     "output_type": "display_data"
    }
   ],
   "source": [
    "gt= spectral.imshow(classes =y,figsize =(7,7))"
   ]
  },
  {
   "cell_type": "code",
   "execution_count": 36,
   "metadata": {},
   "outputs": [],
   "source": [
    "spectral.save_rgb(\"IP_predictions5.jpg\", outputs.astype(int), colors=spectral.spy_colors)"
   ]
  },
  {
   "cell_type": "code",
   "execution_count": null,
   "metadata": {},
   "outputs": [],
   "source": []
  }
 ],
 "metadata": {
  "kernelspec": {
   "display_name": "Python 2",
   "language": "python",
   "name": "python2"
  },
  "language_info": {
   "codemirror_mode": {
    "name": "ipython",
    "version": 2
   },
   "file_extension": ".py",
   "mimetype": "text/x-python",
   "name": "python",
   "nbconvert_exporter": "python",
   "pygments_lexer": "ipython2",
   "version": "2.7.5"
  }
 },
 "nbformat": 4,
 "nbformat_minor": 2
}
